{
 "cells": [
  {
   "cell_type": "markdown",
   "metadata": {},
   "source": [
    "#### Covarianza\n",
    "$$Cov(X,Y)=\\frac{\\sum_{n=1}^n (X_i-\\overline{X})(Y_i-\\overline{Y})}{n}$$\n",
    "$$Cov(X,Y)=\\frac{\\sum_{n=1}^n (X_iY_i-X_i\\overline{Y}-Y_i\\overline{X}+\\overline{X}.\\overline{Y})}{n}$$\n",
    "$$Cov(X,Y)=\\frac{\\sum_{n=1}^n X_iY_i}{n}-\\frac{\\sum_{n=1}^n X_i\\overline{Y}}{n}-\\frac{\\sum_{n=1}^n Y_i\\overline{X}}{n}+ \\frac{\\sum_{n=1}^n \\overline{X}.\\overline{Y}}{n}$$\n",
    "$$Cov(X,Y)=\\overline{X}\\overline{Y}-\\overline{Y}\\frac{\\sum_{n=1}^n X_i}{n}-\\overline{X}\\frac{\\sum_{n=1}^n Y_i}{n}+ \\overline{X}.\\overline{Y}$$\n",
    "$$Cov(X,Y)=\\overline{X}\\overline{Y}-\\overline{Y}.\\overline{X}-\\overline{X}.\\overline{Y}+ \\overline{X}.\\overline{Y}$$\n",
    "$$Cov(X,Y)=\\overline{X}\\overline{Y}-\\overline{X}.\\overline{Y}$$"
   ]
  },
  {
   "cell_type": "markdown",
   "metadata": {},
   "source": [
    "#### Desviaciones estándar\n",
    "$$S_x^2=\\frac{\\sum_{n=1}^n (X_i-\\overline{X})^2}{n} =\\frac{\\sum_{n=1}^n X_i^2-2 X_i\\overline{X}+\\overline{X}^2}{n}$$\n",
    "$$S_x^2=\\frac{\\sum_{n=1}^n X_i^2}{n}-2\\overline{X} \\frac{\\sum_{n=1}^n X_i}{n}+\\frac{\\sum_{n=1}^n \\overline{X}^2}{n}$$\n",
    "$$S_x^2=\\frac{\\sum_{n=1}^n X_i^2}{n}-2\\overline{X}.\\overline{X} + n\\frac{\\overline{X}^2}{n}$$\n",
    "$$S_x^2=\\frac{\\sum_{n=1}^n X_i^2}{n}-\\overline{X}^2$$\n",
    "\n",
    "$$S_x=\\sqrt{\\frac{\\sum_{n=1}^n X_i^2}{n}-\\overline{X}^2}$$\n",
    "$$S_y=\\sqrt{\\frac{\\sum_{n=1}^n Y_i^2}{n}-\\overline{Y}^2}$$"
   ]
  },
  {
   "cell_type": "code",
   "execution_count": 27,
   "metadata": {},
   "outputs": [
    {
     "name": "stdout",
     "output_type": "stream",
     "text": [
      "X [1 2]\n",
      "Y [2 4]\n",
      "Media x 1.5\n",
      "Media y 3.0\n",
      "Covarianza 0.5 numpy 0.5\n"
     ]
    }
   ],
   "source": [
    "import numpy as np\n",
    "from math import sqrt\n",
    "x = np.array([1, 2])\n",
    "y = np.array([2, 4])\n",
    "print(\"X\", x)\n",
    "print(\"Y\", y)\n",
    "print(\"Media x\",np.mean(x))\n",
    "print(\"Media y\",np.mean(y))\n",
    "cv = np.cov(x, y, bias=True)[0][1]\n",
    "print(\"Covarianza\", sum(x*y)/len(x)-np.mean(x)*np.mean(y),\"numpy\", cv)"
   ]
  },
  {
   "cell_type": "markdown",
   "metadata": {},
   "source": [
    "#### Coeficiente de correlación de Pearson\n",
    "$$r_{xy}=\\frac{Cov(x,y)}{S_xS_y}$$\n",
    "\n",
    "#### Error de estimación\n",
    "$$e.e.e=\\sqrt{\\frac{\\sum_{n=1}^n (\\hat{y_i}-y_i)^2}{n}}$$\n",
    "\n",
    "#### Coeficiente de determinación\n",
    "$$R^2=\\frac{\\sum_{n=1}^n (\\hat{y}-\\overline{y})^2}{\\sum_{n=1}^n (y_i-\\overline{y})^2}$$"
   ]
  },
  {
   "cell_type": "code",
   "execution_count": 34,
   "metadata": {},
   "outputs": [
    {
     "name": "stdout",
     "output_type": "stream",
     "text": [
      "Sx 0.5 numpy 0.5\n",
      "Sy 1.0 numpy 1.0\n",
      "rxy 1.0\n"
     ]
    }
   ],
   "source": [
    "sx=sqrt(sum(x*x)/len(x)-np.mean(x)**2)\n",
    "sy=sqrt(sum(y*y)/len(y)-np.mean(y)**2)\n",
    "print(\"Sx\", sx, \"numpy\", np.std(x))\n",
    "print(\"Sy\", sy, \"numpy\", np.std(y))\n",
    "print(\"rxy\", cv/(sx*sy))"
   ]
  },
  {
   "cell_type": "markdown",
   "metadata": {},
   "source": [
    "#### Regresión Lineal\n",
    "$$\\hat{b}=\\frac{Cov(X, Y)}{S_x^2}$$\n",
    "$$\\hat{a}=\\overline{Y}-\\hat{b}\\overline{X}$$"
   ]
  },
  {
   "cell_type": "code",
   "execution_count": 45,
   "metadata": {},
   "outputs": [
    {
     "data": {
      "image/png": "[encoded data removed]",
      "text/plain": [
       "<Figure size 640x480 with 1 Axes>"
      ]
     },
     "metadata": {},
     "output_type": "display_data"
    },
    {
     "name": "stdout",
     "output_type": "stream",
     "text": [
      "Coeficiente de correlación 0.6496543430398207\n",
      "Coeficiente de determinación 0.4220507654305014\n"
     ]
    }
   ],
   "source": [
    "x = np.array([5.12, 6.18, 6.77, 6.65, 6.36, 5.9, 5.48, 6.02, 10.34, 8.51])\n",
    "y = np.array([2.3, 2.54, 2.95, 3.77, 4.18, 5.31, 5.53, 8.83, 9.48, 14.2])\n",
    "b = np.cov(x, y, bias=True)[0, 1]/np.var(x)\n",
    "a = np.mean(y)-b*np.mean(x)\n",
    "\n",
    "import matplotlib.pyplot as plt\n",
    "fig, ax = plt.subplots()\n",
    "plt.title('Gráfico de dispersión')\n",
    "ax.scatter(x, y)\n",
    "ye = b*x+a\n",
    "ax.plot(x, ye)\n",
    "plt.show()\n",
    "\n",
    "print(\"Coeficiente de correlación\", np.corrcoef(x, y)[0, 1])\n",
    "detcoef = sum((ye - np.mean(y))**2)/sum((y-np.mean(y))**2)\n",
    "print(\"Coeficiente de determinación\", detcoef)"
   ]
  },
  {
   "cell_type": "markdown",
   "metadata": {},
   "source": [
    "### Modelo exponencial\n",
    "$$y=ab^x$$\n",
    "$$log(y)=log(ab^x)$$\n",
    "$$log(y)=log(a)+log(b^x)$$\n",
    "$$log(y)=log(a)+log(b)x$$"
   ]
  }
 ],
 "metadata": {
  "interpreter": {
   "hash": "2c6a23e5ca86e48af99ddb8d87a6f8a76f480f6605a8646019b2b2d50a997dfd"
  },
  "kernelspec": {
   "display_name": "Python 3.9.13 ('base')",
   "language": "python",
   "name": "python3"
  },
  "language_info": {
   "codemirror_mode": {
    "name": "ipython",
    "version": 3
   },
   "file_extension": ".py",
   "mimetype": "text/x-python",
   "name": "python",
   "nbconvert_exporter": "python",
   "pygments_lexer": "ipython3",
   "version": "3.9.13"
  },
  "orig_nbformat": 4
 },
 "nbformat": 4,
 "nbformat_minor": 2
}
